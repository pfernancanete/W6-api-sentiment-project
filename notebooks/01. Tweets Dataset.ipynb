{
 "cells": [
  {
   "cell_type": "markdown",
   "id": "f12fd780",
   "metadata": {},
   "source": [
    "# 01. TWEETS DATASET"
   ]
  },
  {
   "cell_type": "code",
   "execution_count": 128,
   "id": "48f900df",
   "metadata": {},
   "outputs": [
    {
     "name": "stderr",
     "output_type": "stream",
     "text": [
      "[nltk_data] Downloading package vader_lexicon to\n",
      "[nltk_data]     /home/pablofdezc/nltk_data...\n"
     ]
    }
   ],
   "source": [
    "import pandas as pd\n",
    "from pymongo import MongoClient\n",
    "import requests\n",
    "import nltk\n",
    "from nltk.sentiment.vader import SentimentIntensityAnalyzer\n",
    "nltk.download('vader_lexicon')\n",
    "import json"
   ]
  },
  {
   "cell_type": "markdown",
   "id": "1e18377e",
   "metadata": {},
   "source": [
    "1. **We import the dataset from Kaggle, from which we will get the information.**"
   ]
  },
  {
   "cell_type": "code",
   "execution_count": 2,
   "id": "d08ec536",
   "metadata": {
    "scrolled": true
   },
   "outputs": [
    {
     "data": {
      "text/html": [
       "<div>\n",
       "<style scoped>\n",
       "    .dataframe tbody tr th:only-of-type {\n",
       "        vertical-align: middle;\n",
       "    }\n",
       "\n",
       "    .dataframe tbody tr th {\n",
       "        vertical-align: top;\n",
       "    }\n",
       "\n",
       "    .dataframe thead th {\n",
       "        text-align: right;\n",
       "    }\n",
       "</style>\n",
       "<table border=\"1\" class=\"dataframe\">\n",
       "  <thead>\n",
       "    <tr style=\"text-align: right;\">\n",
       "      <th></th>\n",
       "      <th>0</th>\n",
       "    </tr>\n",
       "  </thead>\n",
       "  <tbody>\n",
       "    <tr>\n",
       "      <th>0</th>\n",
       "      <td>id,link,content,date,retweets,favorites,mentio...</td>\n",
       "    </tr>\n",
       "    <tr>\n",
       "      <th>1</th>\n",
       "      <td>1698308935,https://twitter.com/realDonaldTrump...</td>\n",
       "    </tr>\n",
       "    <tr>\n",
       "      <th>2</th>\n",
       "      <td>1701461182,https://twitter.com/realDonaldTrump...</td>\n",
       "    </tr>\n",
       "    <tr>\n",
       "      <th>3</th>\n",
       "      <td>1737479987,https://twitter.com/realDonaldTrump...</td>\n",
       "    </tr>\n",
       "    <tr>\n",
       "      <th>4</th>\n",
       "      <td>1741160716,https://twitter.com/realDonaldTrump...</td>\n",
       "    </tr>\n",
       "  </tbody>\n",
       "</table>\n",
       "</div>"
      ],
      "text/plain": [
       "                                                   0\n",
       "0  id,link,content,date,retweets,favorites,mentio...\n",
       "1  1698308935,https://twitter.com/realDonaldTrump...\n",
       "2  1701461182,https://twitter.com/realDonaldTrump...\n",
       "3  1737479987,https://twitter.com/realDonaldTrump...\n",
       "4  1741160716,https://twitter.com/realDonaldTrump..."
      ]
     },
     "execution_count": 2,
     "metadata": {},
     "output_type": "execute_result"
    }
   ],
   "source": [
    "file = open(\"../data/realdonaldtrump.csv\", encoding=\"utf8\")\n",
    "data = pd.DataFrame(file)\n",
    "data.head()"
   ]
  },
  {
   "cell_type": "markdown",
   "id": "08ef089f",
   "metadata": {},
   "source": [
    "2. **We clean the dataset keeping the columns we want, arranging columns, dropping null values, removing unuseful columns.**"
   ]
  },
  {
   "cell_type": "code",
   "execution_count": 3,
   "id": "17e9db72",
   "metadata": {},
   "outputs": [
    {
     "data": {
      "text/plain": [
       "'id,link,content,date,retweets,favorites,mentions,hashtags\\n'"
      ]
     },
     "execution_count": 3,
     "metadata": {},
     "output_type": "execute_result"
    }
   ],
   "source": [
    "data[0][0]"
   ]
  },
  {
   "cell_type": "markdown",
   "id": "8aa277a3",
   "metadata": {},
   "source": [
    "2.1. **We separate the data from the dataset for every ','.**"
   ]
  },
  {
   "cell_type": "code",
   "execution_count": 4,
   "id": "304f0bc8",
   "metadata": {},
   "outputs": [],
   "source": [
    "data = data[0].str.split(',', expand=True)"
   ]
  },
  {
   "cell_type": "code",
   "execution_count": 5,
   "id": "c8507892",
   "metadata": {},
   "outputs": [
    {
     "data": {
      "text/html": [
       "<div>\n",
       "<style scoped>\n",
       "    .dataframe tbody tr th:only-of-type {\n",
       "        vertical-align: middle;\n",
       "    }\n",
       "\n",
       "    .dataframe tbody tr th {\n",
       "        vertical-align: top;\n",
       "    }\n",
       "\n",
       "    .dataframe thead th {\n",
       "        text-align: right;\n",
       "    }\n",
       "</style>\n",
       "<table border=\"1\" class=\"dataframe\">\n",
       "  <thead>\n",
       "    <tr style=\"text-align: right;\">\n",
       "      <th></th>\n",
       "      <th>0</th>\n",
       "      <th>1</th>\n",
       "      <th>2</th>\n",
       "      <th>3</th>\n",
       "      <th>4</th>\n",
       "      <th>5</th>\n",
       "      <th>6</th>\n",
       "      <th>7</th>\n",
       "      <th>8</th>\n",
       "      <th>9</th>\n",
       "      <th>...</th>\n",
       "      <th>15</th>\n",
       "      <th>16</th>\n",
       "      <th>17</th>\n",
       "      <th>18</th>\n",
       "      <th>19</th>\n",
       "      <th>20</th>\n",
       "      <th>21</th>\n",
       "      <th>22</th>\n",
       "      <th>23</th>\n",
       "      <th>24</th>\n",
       "    </tr>\n",
       "  </thead>\n",
       "  <tbody>\n",
       "    <tr>\n",
       "      <th>0</th>\n",
       "      <td>id</td>\n",
       "      <td>link</td>\n",
       "      <td>content</td>\n",
       "      <td>date</td>\n",
       "      <td>retweets</td>\n",
       "      <td>favorites</td>\n",
       "      <td>mentions</td>\n",
       "      <td>hashtags\\n</td>\n",
       "      <td>None</td>\n",
       "      <td>None</td>\n",
       "      <td>...</td>\n",
       "      <td>None</td>\n",
       "      <td>None</td>\n",
       "      <td>None</td>\n",
       "      <td>None</td>\n",
       "      <td>None</td>\n",
       "      <td>None</td>\n",
       "      <td>None</td>\n",
       "      <td>None</td>\n",
       "      <td>None</td>\n",
       "      <td>None</td>\n",
       "    </tr>\n",
       "    <tr>\n",
       "      <th>1</th>\n",
       "      <td>1698308935</td>\n",
       "      <td>https://twitter.com/realDonaldTrump/status/169...</td>\n",
       "      <td>Be sure to tune in and watch Donald Trump on L...</td>\n",
       "      <td>2009-05-04 13:54:25</td>\n",
       "      <td>510</td>\n",
       "      <td>917</td>\n",
       "      <td></td>\n",
       "      <td>\\n</td>\n",
       "      <td>None</td>\n",
       "      <td>None</td>\n",
       "      <td>...</td>\n",
       "      <td>None</td>\n",
       "      <td>None</td>\n",
       "      <td>None</td>\n",
       "      <td>None</td>\n",
       "      <td>None</td>\n",
       "      <td>None</td>\n",
       "      <td>None</td>\n",
       "      <td>None</td>\n",
       "      <td>None</td>\n",
       "      <td>None</td>\n",
       "    </tr>\n",
       "    <tr>\n",
       "      <th>2</th>\n",
       "      <td>1701461182</td>\n",
       "      <td>https://twitter.com/realDonaldTrump/status/170...</td>\n",
       "      <td>Donald Trump will be appearing on The View tom...</td>\n",
       "      <td>2009-05-04 20:00:10</td>\n",
       "      <td>34</td>\n",
       "      <td>267</td>\n",
       "      <td></td>\n",
       "      <td>\\n</td>\n",
       "      <td>None</td>\n",
       "      <td>None</td>\n",
       "      <td>...</td>\n",
       "      <td>None</td>\n",
       "      <td>None</td>\n",
       "      <td>None</td>\n",
       "      <td>None</td>\n",
       "      <td>None</td>\n",
       "      <td>None</td>\n",
       "      <td>None</td>\n",
       "      <td>None</td>\n",
       "      <td>None</td>\n",
       "      <td>None</td>\n",
       "    </tr>\n",
       "    <tr>\n",
       "      <th>3</th>\n",
       "      <td>1737479987</td>\n",
       "      <td>https://twitter.com/realDonaldTrump/status/173...</td>\n",
       "      <td>Donald Trump reads Top Ten Financial Tips on L...</td>\n",
       "      <td>2009-05-08 08:38:08</td>\n",
       "      <td>13</td>\n",
       "      <td>19</td>\n",
       "      <td></td>\n",
       "      <td>\\n</td>\n",
       "      <td>None</td>\n",
       "      <td>None</td>\n",
       "      <td>...</td>\n",
       "      <td>None</td>\n",
       "      <td>None</td>\n",
       "      <td>None</td>\n",
       "      <td>None</td>\n",
       "      <td>None</td>\n",
       "      <td>None</td>\n",
       "      <td>None</td>\n",
       "      <td>None</td>\n",
       "      <td>None</td>\n",
       "      <td>None</td>\n",
       "    </tr>\n",
       "    <tr>\n",
       "      <th>4</th>\n",
       "      <td>1741160716</td>\n",
       "      <td>https://twitter.com/realDonaldTrump/status/174...</td>\n",
       "      <td>New Blog Post: Celebrity Apprentice Finale and...</td>\n",
       "      <td>2009-05-08 15:40:15</td>\n",
       "      <td>11</td>\n",
       "      <td>26</td>\n",
       "      <td></td>\n",
       "      <td>\\n</td>\n",
       "      <td>None</td>\n",
       "      <td>None</td>\n",
       "      <td>...</td>\n",
       "      <td>None</td>\n",
       "      <td>None</td>\n",
       "      <td>None</td>\n",
       "      <td>None</td>\n",
       "      <td>None</td>\n",
       "      <td>None</td>\n",
       "      <td>None</td>\n",
       "      <td>None</td>\n",
       "      <td>None</td>\n",
       "      <td>None</td>\n",
       "    </tr>\n",
       "  </tbody>\n",
       "</table>\n",
       "<p>5 rows × 25 columns</p>\n",
       "</div>"
      ],
      "text/plain": [
       "           0                                                  1   \\\n",
       "0          id                                               link   \n",
       "1  1698308935  https://twitter.com/realDonaldTrump/status/169...   \n",
       "2  1701461182  https://twitter.com/realDonaldTrump/status/170...   \n",
       "3  1737479987  https://twitter.com/realDonaldTrump/status/173...   \n",
       "4  1741160716  https://twitter.com/realDonaldTrump/status/174...   \n",
       "\n",
       "                                                  2                    3   \\\n",
       "0                                            content                 date   \n",
       "1  Be sure to tune in and watch Donald Trump on L...  2009-05-04 13:54:25   \n",
       "2  Donald Trump will be appearing on The View tom...  2009-05-04 20:00:10   \n",
       "3  Donald Trump reads Top Ten Financial Tips on L...  2009-05-08 08:38:08   \n",
       "4  New Blog Post: Celebrity Apprentice Finale and...  2009-05-08 15:40:15   \n",
       "\n",
       "         4          5         6           7     8     9   ...    15    16  \\\n",
       "0  retweets  favorites  mentions  hashtags\\n  None  None  ...  None  None   \n",
       "1       510        917                    \\n  None  None  ...  None  None   \n",
       "2        34        267                    \\n  None  None  ...  None  None   \n",
       "3        13         19                    \\n  None  None  ...  None  None   \n",
       "4        11         26                    \\n  None  None  ...  None  None   \n",
       "\n",
       "     17    18    19    20    21    22    23    24  \n",
       "0  None  None  None  None  None  None  None  None  \n",
       "1  None  None  None  None  None  None  None  None  \n",
       "2  None  None  None  None  None  None  None  None  \n",
       "3  None  None  None  None  None  None  None  None  \n",
       "4  None  None  None  None  None  None  None  None  \n",
       "\n",
       "[5 rows x 25 columns]"
      ]
     },
     "execution_count": 5,
     "metadata": {},
     "output_type": "execute_result"
    }
   ],
   "source": [
    "data.head()"
   ]
  },
  {
   "cell_type": "markdown",
   "id": "1a131fd1",
   "metadata": {},
   "source": [
    "2.2. **We rename each column with the names we want.**"
   ]
  },
  {
   "cell_type": "code",
   "execution_count": 6,
   "id": "722f156d",
   "metadata": {},
   "outputs": [],
   "source": [
    "data.rename(columns={0 : 'id', 1: 'link', 2: 'tweet', 3: 'date', 4: 'rt', 5: 'favourites', 6: 'mentions', 7: 'hashtags'}, inplace=True)"
   ]
  },
  {
   "cell_type": "markdown",
   "id": "01006df8",
   "metadata": {},
   "source": [
    "2.3. **We drop the first row which is already setted as column names.**"
   ]
  },
  {
   "cell_type": "code",
   "execution_count": 7,
   "id": "832a4eb1",
   "metadata": {},
   "outputs": [],
   "source": [
    "data = data.drop([0],axis=0)"
   ]
  },
  {
   "cell_type": "code",
   "execution_count": 8,
   "id": "ae67e746",
   "metadata": {
    "scrolled": true
   },
   "outputs": [
    {
     "data": {
      "text/html": [
       "<div>\n",
       "<style scoped>\n",
       "    .dataframe tbody tr th:only-of-type {\n",
       "        vertical-align: middle;\n",
       "    }\n",
       "\n",
       "    .dataframe tbody tr th {\n",
       "        vertical-align: top;\n",
       "    }\n",
       "\n",
       "    .dataframe thead th {\n",
       "        text-align: right;\n",
       "    }\n",
       "</style>\n",
       "<table border=\"1\" class=\"dataframe\">\n",
       "  <thead>\n",
       "    <tr style=\"text-align: right;\">\n",
       "      <th></th>\n",
       "      <th>id</th>\n",
       "      <th>link</th>\n",
       "      <th>tweet</th>\n",
       "      <th>date</th>\n",
       "      <th>rt</th>\n",
       "      <th>favourites</th>\n",
       "      <th>mentions</th>\n",
       "      <th>hashtags</th>\n",
       "      <th>8</th>\n",
       "      <th>9</th>\n",
       "      <th>...</th>\n",
       "      <th>15</th>\n",
       "      <th>16</th>\n",
       "      <th>17</th>\n",
       "      <th>18</th>\n",
       "      <th>19</th>\n",
       "      <th>20</th>\n",
       "      <th>21</th>\n",
       "      <th>22</th>\n",
       "      <th>23</th>\n",
       "      <th>24</th>\n",
       "    </tr>\n",
       "  </thead>\n",
       "  <tbody>\n",
       "    <tr>\n",
       "      <th>1</th>\n",
       "      <td>1698308935</td>\n",
       "      <td>https://twitter.com/realDonaldTrump/status/169...</td>\n",
       "      <td>Be sure to tune in and watch Donald Trump on L...</td>\n",
       "      <td>2009-05-04 13:54:25</td>\n",
       "      <td>510</td>\n",
       "      <td>917</td>\n",
       "      <td></td>\n",
       "      <td>\\n</td>\n",
       "      <td>None</td>\n",
       "      <td>None</td>\n",
       "      <td>...</td>\n",
       "      <td>None</td>\n",
       "      <td>None</td>\n",
       "      <td>None</td>\n",
       "      <td>None</td>\n",
       "      <td>None</td>\n",
       "      <td>None</td>\n",
       "      <td>None</td>\n",
       "      <td>None</td>\n",
       "      <td>None</td>\n",
       "      <td>None</td>\n",
       "    </tr>\n",
       "    <tr>\n",
       "      <th>2</th>\n",
       "      <td>1701461182</td>\n",
       "      <td>https://twitter.com/realDonaldTrump/status/170...</td>\n",
       "      <td>Donald Trump will be appearing on The View tom...</td>\n",
       "      <td>2009-05-04 20:00:10</td>\n",
       "      <td>34</td>\n",
       "      <td>267</td>\n",
       "      <td></td>\n",
       "      <td>\\n</td>\n",
       "      <td>None</td>\n",
       "      <td>None</td>\n",
       "      <td>...</td>\n",
       "      <td>None</td>\n",
       "      <td>None</td>\n",
       "      <td>None</td>\n",
       "      <td>None</td>\n",
       "      <td>None</td>\n",
       "      <td>None</td>\n",
       "      <td>None</td>\n",
       "      <td>None</td>\n",
       "      <td>None</td>\n",
       "      <td>None</td>\n",
       "    </tr>\n",
       "    <tr>\n",
       "      <th>3</th>\n",
       "      <td>1737479987</td>\n",
       "      <td>https://twitter.com/realDonaldTrump/status/173...</td>\n",
       "      <td>Donald Trump reads Top Ten Financial Tips on L...</td>\n",
       "      <td>2009-05-08 08:38:08</td>\n",
       "      <td>13</td>\n",
       "      <td>19</td>\n",
       "      <td></td>\n",
       "      <td>\\n</td>\n",
       "      <td>None</td>\n",
       "      <td>None</td>\n",
       "      <td>...</td>\n",
       "      <td>None</td>\n",
       "      <td>None</td>\n",
       "      <td>None</td>\n",
       "      <td>None</td>\n",
       "      <td>None</td>\n",
       "      <td>None</td>\n",
       "      <td>None</td>\n",
       "      <td>None</td>\n",
       "      <td>None</td>\n",
       "      <td>None</td>\n",
       "    </tr>\n",
       "    <tr>\n",
       "      <th>4</th>\n",
       "      <td>1741160716</td>\n",
       "      <td>https://twitter.com/realDonaldTrump/status/174...</td>\n",
       "      <td>New Blog Post: Celebrity Apprentice Finale and...</td>\n",
       "      <td>2009-05-08 15:40:15</td>\n",
       "      <td>11</td>\n",
       "      <td>26</td>\n",
       "      <td></td>\n",
       "      <td>\\n</td>\n",
       "      <td>None</td>\n",
       "      <td>None</td>\n",
       "      <td>...</td>\n",
       "      <td>None</td>\n",
       "      <td>None</td>\n",
       "      <td>None</td>\n",
       "      <td>None</td>\n",
       "      <td>None</td>\n",
       "      <td>None</td>\n",
       "      <td>None</td>\n",
       "      <td>None</td>\n",
       "      <td>None</td>\n",
       "      <td>None</td>\n",
       "    </tr>\n",
       "    <tr>\n",
       "      <th>5</th>\n",
       "      <td>1773561338</td>\n",
       "      <td>https://twitter.com/realDonaldTrump/status/177...</td>\n",
       "      <td>\"\"\"My persona will never be that of a wallflow...</td>\n",
       "      <td>2009-05-12 09:07:28</td>\n",
       "      <td>1375</td>\n",
       "      <td>1945</td>\n",
       "      <td></td>\n",
       "      <td>\\n</td>\n",
       "      <td>None</td>\n",
       "      <td>None</td>\n",
       "      <td>...</td>\n",
       "      <td>None</td>\n",
       "      <td>None</td>\n",
       "      <td>None</td>\n",
       "      <td>None</td>\n",
       "      <td>None</td>\n",
       "      <td>None</td>\n",
       "      <td>None</td>\n",
       "      <td>None</td>\n",
       "      <td>None</td>\n",
       "      <td>None</td>\n",
       "    </tr>\n",
       "    <tr>\n",
       "      <th>...</th>\n",
       "      <td>...</td>\n",
       "      <td>...</td>\n",
       "      <td>...</td>\n",
       "      <td>...</td>\n",
       "      <td>...</td>\n",
       "      <td>...</td>\n",
       "      <td>...</td>\n",
       "      <td>...</td>\n",
       "      <td>...</td>\n",
       "      <td>...</td>\n",
       "      <td>...</td>\n",
       "      <td>...</td>\n",
       "      <td>...</td>\n",
       "      <td>...</td>\n",
       "      <td>...</td>\n",
       "      <td>...</td>\n",
       "      <td>...</td>\n",
       "      <td>...</td>\n",
       "      <td>...</td>\n",
       "      <td>...</td>\n",
       "      <td>...</td>\n",
       "    </tr>\n",
       "    <tr>\n",
       "      <th>43348</th>\n",
       "      <td>1273405198698975232</td>\n",
       "      <td>https://twitter.com/realDonaldTrump/status/127...</td>\n",
       "      <td>Joe Biden was a TOTAL FAILURE in Government. H...</td>\n",
       "      <td>2020-06-17 19:00:32</td>\n",
       "      <td>23402</td>\n",
       "      <td>116377</td>\n",
       "      <td></td>\n",
       "      <td>\\n</td>\n",
       "      <td>None</td>\n",
       "      <td>None</td>\n",
       "      <td>...</td>\n",
       "      <td>None</td>\n",
       "      <td>None</td>\n",
       "      <td>None</td>\n",
       "      <td>None</td>\n",
       "      <td>None</td>\n",
       "      <td>None</td>\n",
       "      <td>None</td>\n",
       "      <td>None</td>\n",
       "      <td>None</td>\n",
       "      <td>None</td>\n",
       "    </tr>\n",
       "    <tr>\n",
       "      <th>43349</th>\n",
       "      <td>1273408026968457216</td>\n",
       "      <td>https://twitter.com/realDonaldTrump/status/127...</td>\n",
       "      <td>Will be interviewed on @ seanhannity tonight a...</td>\n",
       "      <td>2020-06-17 19:11:47</td>\n",
       "      <td>11810</td>\n",
       "      <td>56659</td>\n",
       "      <td>@seanhannity</td>\n",
       "      <td>\\n</td>\n",
       "      <td>None</td>\n",
       "      <td>None</td>\n",
       "      <td>...</td>\n",
       "      <td>None</td>\n",
       "      <td>None</td>\n",
       "      <td>None</td>\n",
       "      <td>None</td>\n",
       "      <td>None</td>\n",
       "      <td>None</td>\n",
       "      <td>None</td>\n",
       "      <td>None</td>\n",
       "      <td>None</td>\n",
       "      <td>None</td>\n",
       "    </tr>\n",
       "    <tr>\n",
       "      <th>43350</th>\n",
       "      <td>1273442195161387008</td>\n",
       "      <td>https://twitter.com/realDonaldTrump/status/127...</td>\n",
       "      <td>pic.twitter.com/3lm1spbU8X</td>\n",
       "      <td>2020-06-17 21:27:33</td>\n",
       "      <td>4959</td>\n",
       "      <td>19344</td>\n",
       "      <td></td>\n",
       "      <td>\\n</td>\n",
       "      <td>None</td>\n",
       "      <td>None</td>\n",
       "      <td>...</td>\n",
       "      <td>None</td>\n",
       "      <td>None</td>\n",
       "      <td>None</td>\n",
       "      <td>None</td>\n",
       "      <td>None</td>\n",
       "      <td>None</td>\n",
       "      <td>None</td>\n",
       "      <td>None</td>\n",
       "      <td>None</td>\n",
       "      <td>None</td>\n",
       "    </tr>\n",
       "    <tr>\n",
       "      <th>43351</th>\n",
       "      <td>1273442469066276864</td>\n",
       "      <td>https://twitter.com/realDonaldTrump/status/127...</td>\n",
       "      <td>pic.twitter.com/vpCE5MadUz</td>\n",
       "      <td>2020-06-17 21:28:38</td>\n",
       "      <td>4627</td>\n",
       "      <td>17022</td>\n",
       "      <td></td>\n",
       "      <td>\\n</td>\n",
       "      <td>None</td>\n",
       "      <td>None</td>\n",
       "      <td>...</td>\n",
       "      <td>None</td>\n",
       "      <td>None</td>\n",
       "      <td>None</td>\n",
       "      <td>None</td>\n",
       "      <td>None</td>\n",
       "      <td>None</td>\n",
       "      <td>None</td>\n",
       "      <td>None</td>\n",
       "      <td>None</td>\n",
       "      <td>None</td>\n",
       "    </tr>\n",
       "    <tr>\n",
       "      <th>43352</th>\n",
       "      <td>1273442528411385858</td>\n",
       "      <td>https://twitter.com/realDonaldTrump/status/127...</td>\n",
       "      <td>pic.twitter.com/VLlc0BHW41</td>\n",
       "      <td>2020-06-17 21:28:52</td>\n",
       "      <td>3951</td>\n",
       "      <td>14344</td>\n",
       "      <td></td>\n",
       "      <td>\\n</td>\n",
       "      <td>None</td>\n",
       "      <td>None</td>\n",
       "      <td>...</td>\n",
       "      <td>None</td>\n",
       "      <td>None</td>\n",
       "      <td>None</td>\n",
       "      <td>None</td>\n",
       "      <td>None</td>\n",
       "      <td>None</td>\n",
       "      <td>None</td>\n",
       "      <td>None</td>\n",
       "      <td>None</td>\n",
       "      <td>None</td>\n",
       "    </tr>\n",
       "  </tbody>\n",
       "</table>\n",
       "<p>43352 rows × 25 columns</p>\n",
       "</div>"
      ],
      "text/plain": [
       "                        id                                               link  \\\n",
       "1               1698308935  https://twitter.com/realDonaldTrump/status/169...   \n",
       "2               1701461182  https://twitter.com/realDonaldTrump/status/170...   \n",
       "3               1737479987  https://twitter.com/realDonaldTrump/status/173...   \n",
       "4               1741160716  https://twitter.com/realDonaldTrump/status/174...   \n",
       "5               1773561338  https://twitter.com/realDonaldTrump/status/177...   \n",
       "...                    ...                                                ...   \n",
       "43348  1273405198698975232  https://twitter.com/realDonaldTrump/status/127...   \n",
       "43349  1273408026968457216  https://twitter.com/realDonaldTrump/status/127...   \n",
       "43350  1273442195161387008  https://twitter.com/realDonaldTrump/status/127...   \n",
       "43351  1273442469066276864  https://twitter.com/realDonaldTrump/status/127...   \n",
       "43352  1273442528411385858  https://twitter.com/realDonaldTrump/status/127...   \n",
       "\n",
       "                                                   tweet                 date  \\\n",
       "1      Be sure to tune in and watch Donald Trump on L...  2009-05-04 13:54:25   \n",
       "2      Donald Trump will be appearing on The View tom...  2009-05-04 20:00:10   \n",
       "3      Donald Trump reads Top Ten Financial Tips on L...  2009-05-08 08:38:08   \n",
       "4      New Blog Post: Celebrity Apprentice Finale and...  2009-05-08 15:40:15   \n",
       "5      \"\"\"My persona will never be that of a wallflow...  2009-05-12 09:07:28   \n",
       "...                                                  ...                  ...   \n",
       "43348  Joe Biden was a TOTAL FAILURE in Government. H...  2020-06-17 19:00:32   \n",
       "43349  Will be interviewed on @ seanhannity tonight a...  2020-06-17 19:11:47   \n",
       "43350                         pic.twitter.com/3lm1spbU8X  2020-06-17 21:27:33   \n",
       "43351                         pic.twitter.com/vpCE5MadUz  2020-06-17 21:28:38   \n",
       "43352                         pic.twitter.com/VLlc0BHW41  2020-06-17 21:28:52   \n",
       "\n",
       "          rt favourites      mentions hashtags     8     9  ...    15    16  \\\n",
       "1        510        917                     \\n  None  None  ...  None  None   \n",
       "2         34        267                     \\n  None  None  ...  None  None   \n",
       "3         13         19                     \\n  None  None  ...  None  None   \n",
       "4         11         26                     \\n  None  None  ...  None  None   \n",
       "5       1375       1945                     \\n  None  None  ...  None  None   \n",
       "...      ...        ...           ...      ...   ...   ...  ...   ...   ...   \n",
       "43348  23402     116377                     \\n  None  None  ...  None  None   \n",
       "43349  11810      56659  @seanhannity       \\n  None  None  ...  None  None   \n",
       "43350   4959      19344                     \\n  None  None  ...  None  None   \n",
       "43351   4627      17022                     \\n  None  None  ...  None  None   \n",
       "43352   3951      14344                     \\n  None  None  ...  None  None   \n",
       "\n",
       "         17    18    19    20    21    22    23    24  \n",
       "1      None  None  None  None  None  None  None  None  \n",
       "2      None  None  None  None  None  None  None  None  \n",
       "3      None  None  None  None  None  None  None  None  \n",
       "4      None  None  None  None  None  None  None  None  \n",
       "5      None  None  None  None  None  None  None  None  \n",
       "...     ...   ...   ...   ...   ...   ...   ...   ...  \n",
       "43348  None  None  None  None  None  None  None  None  \n",
       "43349  None  None  None  None  None  None  None  None  \n",
       "43350  None  None  None  None  None  None  None  None  \n",
       "43351  None  None  None  None  None  None  None  None  \n",
       "43352  None  None  None  None  None  None  None  None  \n",
       "\n",
       "[43352 rows x 25 columns]"
      ]
     },
     "execution_count": 8,
     "metadata": {},
     "output_type": "execute_result"
    }
   ],
   "source": [
    "data"
   ]
  },
  {
   "cell_type": "markdown",
   "id": "da805853",
   "metadata": {},
   "source": [
    "2.4. **We drop the columns we feel are not going to be useful for our analysis.**"
   ]
  },
  {
   "cell_type": "code",
   "execution_count": 9,
   "id": "2d361615",
   "metadata": {},
   "outputs": [
    {
     "data": {
      "text/html": [
       "<div>\n",
       "<style scoped>\n",
       "    .dataframe tbody tr th:only-of-type {\n",
       "        vertical-align: middle;\n",
       "    }\n",
       "\n",
       "    .dataframe tbody tr th {\n",
       "        vertical-align: top;\n",
       "    }\n",
       "\n",
       "    .dataframe thead th {\n",
       "        text-align: right;\n",
       "    }\n",
       "</style>\n",
       "<table border=\"1\" class=\"dataframe\">\n",
       "  <thead>\n",
       "    <tr style=\"text-align: right;\">\n",
       "      <th></th>\n",
       "      <th>tweet</th>\n",
       "      <th>date</th>\n",
       "      <th>rt</th>\n",
       "      <th>favourites</th>\n",
       "    </tr>\n",
       "  </thead>\n",
       "  <tbody>\n",
       "    <tr>\n",
       "      <th>1</th>\n",
       "      <td>Be sure to tune in and watch Donald Trump on L...</td>\n",
       "      <td>2009-05-04 13:54:25</td>\n",
       "      <td>510</td>\n",
       "      <td>917</td>\n",
       "    </tr>\n",
       "    <tr>\n",
       "      <th>2</th>\n",
       "      <td>Donald Trump will be appearing on The View tom...</td>\n",
       "      <td>2009-05-04 20:00:10</td>\n",
       "      <td>34</td>\n",
       "      <td>267</td>\n",
       "    </tr>\n",
       "    <tr>\n",
       "      <th>3</th>\n",
       "      <td>Donald Trump reads Top Ten Financial Tips on L...</td>\n",
       "      <td>2009-05-08 08:38:08</td>\n",
       "      <td>13</td>\n",
       "      <td>19</td>\n",
       "    </tr>\n",
       "    <tr>\n",
       "      <th>4</th>\n",
       "      <td>New Blog Post: Celebrity Apprentice Finale and...</td>\n",
       "      <td>2009-05-08 15:40:15</td>\n",
       "      <td>11</td>\n",
       "      <td>26</td>\n",
       "    </tr>\n",
       "    <tr>\n",
       "      <th>5</th>\n",
       "      <td>\"\"\"My persona will never be that of a wallflow...</td>\n",
       "      <td>2009-05-12 09:07:28</td>\n",
       "      <td>1375</td>\n",
       "      <td>1945</td>\n",
       "    </tr>\n",
       "    <tr>\n",
       "      <th>...</th>\n",
       "      <td>...</td>\n",
       "      <td>...</td>\n",
       "      <td>...</td>\n",
       "      <td>...</td>\n",
       "    </tr>\n",
       "    <tr>\n",
       "      <th>43348</th>\n",
       "      <td>Joe Biden was a TOTAL FAILURE in Government. H...</td>\n",
       "      <td>2020-06-17 19:00:32</td>\n",
       "      <td>23402</td>\n",
       "      <td>116377</td>\n",
       "    </tr>\n",
       "    <tr>\n",
       "      <th>43349</th>\n",
       "      <td>Will be interviewed on @ seanhannity tonight a...</td>\n",
       "      <td>2020-06-17 19:11:47</td>\n",
       "      <td>11810</td>\n",
       "      <td>56659</td>\n",
       "    </tr>\n",
       "    <tr>\n",
       "      <th>43350</th>\n",
       "      <td>pic.twitter.com/3lm1spbU8X</td>\n",
       "      <td>2020-06-17 21:27:33</td>\n",
       "      <td>4959</td>\n",
       "      <td>19344</td>\n",
       "    </tr>\n",
       "    <tr>\n",
       "      <th>43351</th>\n",
       "      <td>pic.twitter.com/vpCE5MadUz</td>\n",
       "      <td>2020-06-17 21:28:38</td>\n",
       "      <td>4627</td>\n",
       "      <td>17022</td>\n",
       "    </tr>\n",
       "    <tr>\n",
       "      <th>43352</th>\n",
       "      <td>pic.twitter.com/VLlc0BHW41</td>\n",
       "      <td>2020-06-17 21:28:52</td>\n",
       "      <td>3951</td>\n",
       "      <td>14344</td>\n",
       "    </tr>\n",
       "  </tbody>\n",
       "</table>\n",
       "<p>43352 rows × 4 columns</p>\n",
       "</div>"
      ],
      "text/plain": [
       "                                                   tweet                 date  \\\n",
       "1      Be sure to tune in and watch Donald Trump on L...  2009-05-04 13:54:25   \n",
       "2      Donald Trump will be appearing on The View tom...  2009-05-04 20:00:10   \n",
       "3      Donald Trump reads Top Ten Financial Tips on L...  2009-05-08 08:38:08   \n",
       "4      New Blog Post: Celebrity Apprentice Finale and...  2009-05-08 15:40:15   \n",
       "5      \"\"\"My persona will never be that of a wallflow...  2009-05-12 09:07:28   \n",
       "...                                                  ...                  ...   \n",
       "43348  Joe Biden was a TOTAL FAILURE in Government. H...  2020-06-17 19:00:32   \n",
       "43349  Will be interviewed on @ seanhannity tonight a...  2020-06-17 19:11:47   \n",
       "43350                         pic.twitter.com/3lm1spbU8X  2020-06-17 21:27:33   \n",
       "43351                         pic.twitter.com/vpCE5MadUz  2020-06-17 21:28:38   \n",
       "43352                         pic.twitter.com/VLlc0BHW41  2020-06-17 21:28:52   \n",
       "\n",
       "          rt favourites  \n",
       "1        510        917  \n",
       "2         34        267  \n",
       "3         13         19  \n",
       "4         11         26  \n",
       "5       1375       1945  \n",
       "...      ...        ...  \n",
       "43348  23402     116377  \n",
       "43349  11810      56659  \n",
       "43350   4959      19344  \n",
       "43351   4627      17022  \n",
       "43352   3951      14344  \n",
       "\n",
       "[43352 rows x 4 columns]"
      ]
     },
     "execution_count": 9,
     "metadata": {},
     "output_type": "execute_result"
    }
   ],
   "source": [
    "data = data.drop(['id', 'link', 'mentions', 'hashtags',8,9,10,11,12,13,14,15,16,17,18,19,20,21,22,23,24], axis = 1)\n",
    "data"
   ]
  },
  {
   "cell_type": "markdown",
   "id": "be9bdd85",
   "metadata": {},
   "source": [
    "2.5. **We now set the date column to a proper format. We want only the year of the tweet.**"
   ]
  },
  {
   "cell_type": "code",
   "execution_count": 14,
   "id": "f5a5b3f2",
   "metadata": {},
   "outputs": [],
   "source": [
    "date_year = data.date.apply(lambda x: str(x) [0:4])"
   ]
  },
  {
   "cell_type": "code",
   "execution_count": 17,
   "id": "a7d54a1d",
   "metadata": {},
   "outputs": [
    {
     "data": {
      "text/html": [
       "<div>\n",
       "<style scoped>\n",
       "    .dataframe tbody tr th:only-of-type {\n",
       "        vertical-align: middle;\n",
       "    }\n",
       "\n",
       "    .dataframe tbody tr th {\n",
       "        vertical-align: top;\n",
       "    }\n",
       "\n",
       "    .dataframe thead th {\n",
       "        text-align: right;\n",
       "    }\n",
       "</style>\n",
       "<table border=\"1\" class=\"dataframe\">\n",
       "  <thead>\n",
       "    <tr style=\"text-align: right;\">\n",
       "      <th></th>\n",
       "      <th>year</th>\n",
       "    </tr>\n",
       "  </thead>\n",
       "  <tbody>\n",
       "    <tr>\n",
       "      <th>1</th>\n",
       "      <td>2009</td>\n",
       "    </tr>\n",
       "    <tr>\n",
       "      <th>2</th>\n",
       "      <td>2009</td>\n",
       "    </tr>\n",
       "    <tr>\n",
       "      <th>3</th>\n",
       "      <td>2009</td>\n",
       "    </tr>\n",
       "    <tr>\n",
       "      <th>4</th>\n",
       "      <td>2009</td>\n",
       "    </tr>\n",
       "    <tr>\n",
       "      <th>5</th>\n",
       "      <td>2009</td>\n",
       "    </tr>\n",
       "    <tr>\n",
       "      <th>...</th>\n",
       "      <td>...</td>\n",
       "    </tr>\n",
       "    <tr>\n",
       "      <th>43348</th>\n",
       "      <td>2020</td>\n",
       "    </tr>\n",
       "    <tr>\n",
       "      <th>43349</th>\n",
       "      <td>2020</td>\n",
       "    </tr>\n",
       "    <tr>\n",
       "      <th>43350</th>\n",
       "      <td>2020</td>\n",
       "    </tr>\n",
       "    <tr>\n",
       "      <th>43351</th>\n",
       "      <td>2020</td>\n",
       "    </tr>\n",
       "    <tr>\n",
       "      <th>43352</th>\n",
       "      <td>2020</td>\n",
       "    </tr>\n",
       "  </tbody>\n",
       "</table>\n",
       "<p>43352 rows × 1 columns</p>\n",
       "</div>"
      ],
      "text/plain": [
       "       year\n",
       "1      2009\n",
       "2      2009\n",
       "3      2009\n",
       "4      2009\n",
       "5      2009\n",
       "...     ...\n",
       "43348  2020\n",
       "43349  2020\n",
       "43350  2020\n",
       "43351  2020\n",
       "43352  2020\n",
       "\n",
       "[43352 rows x 1 columns]"
      ]
     },
     "execution_count": 17,
     "metadata": {},
     "output_type": "execute_result"
    }
   ],
   "source": [
    "df = pd.DataFrame(date_year)\n",
    "df = df.rename(columns={'date': 'year'})\n",
    "df"
   ]
  },
  {
   "cell_type": "code",
   "execution_count": 18,
   "id": "fc643eff",
   "metadata": {
    "scrolled": true
   },
   "outputs": [
    {
     "data": {
      "text/html": [
       "<div>\n",
       "<style scoped>\n",
       "    .dataframe tbody tr th:only-of-type {\n",
       "        vertical-align: middle;\n",
       "    }\n",
       "\n",
       "    .dataframe tbody tr th {\n",
       "        vertical-align: top;\n",
       "    }\n",
       "\n",
       "    .dataframe thead th {\n",
       "        text-align: right;\n",
       "    }\n",
       "</style>\n",
       "<table border=\"1\" class=\"dataframe\">\n",
       "  <thead>\n",
       "    <tr style=\"text-align: right;\">\n",
       "      <th></th>\n",
       "      <th>tweet</th>\n",
       "      <th>date</th>\n",
       "      <th>rt</th>\n",
       "      <th>favourites</th>\n",
       "      <th>year</th>\n",
       "    </tr>\n",
       "  </thead>\n",
       "  <tbody>\n",
       "    <tr>\n",
       "      <th>1</th>\n",
       "      <td>Be sure to tune in and watch Donald Trump on L...</td>\n",
       "      <td>2009-05-04 13:54:25</td>\n",
       "      <td>510</td>\n",
       "      <td>917</td>\n",
       "      <td>2009</td>\n",
       "    </tr>\n",
       "    <tr>\n",
       "      <th>2</th>\n",
       "      <td>Donald Trump will be appearing on The View tom...</td>\n",
       "      <td>2009-05-04 20:00:10</td>\n",
       "      <td>34</td>\n",
       "      <td>267</td>\n",
       "      <td>2009</td>\n",
       "    </tr>\n",
       "    <tr>\n",
       "      <th>3</th>\n",
       "      <td>Donald Trump reads Top Ten Financial Tips on L...</td>\n",
       "      <td>2009-05-08 08:38:08</td>\n",
       "      <td>13</td>\n",
       "      <td>19</td>\n",
       "      <td>2009</td>\n",
       "    </tr>\n",
       "    <tr>\n",
       "      <th>4</th>\n",
       "      <td>New Blog Post: Celebrity Apprentice Finale and...</td>\n",
       "      <td>2009-05-08 15:40:15</td>\n",
       "      <td>11</td>\n",
       "      <td>26</td>\n",
       "      <td>2009</td>\n",
       "    </tr>\n",
       "    <tr>\n",
       "      <th>5</th>\n",
       "      <td>\"\"\"My persona will never be that of a wallflow...</td>\n",
       "      <td>2009-05-12 09:07:28</td>\n",
       "      <td>1375</td>\n",
       "      <td>1945</td>\n",
       "      <td>2009</td>\n",
       "    </tr>\n",
       "  </tbody>\n",
       "</table>\n",
       "</div>"
      ],
      "text/plain": [
       "                                               tweet                 date  \\\n",
       "1  Be sure to tune in and watch Donald Trump on L...  2009-05-04 13:54:25   \n",
       "2  Donald Trump will be appearing on The View tom...  2009-05-04 20:00:10   \n",
       "3  Donald Trump reads Top Ten Financial Tips on L...  2009-05-08 08:38:08   \n",
       "4  New Blog Post: Celebrity Apprentice Finale and...  2009-05-08 15:40:15   \n",
       "5  \"\"\"My persona will never be that of a wallflow...  2009-05-12 09:07:28   \n",
       "\n",
       "     rt favourites  year  \n",
       "1   510        917  2009  \n",
       "2    34        267  2009  \n",
       "3    13         19  2009  \n",
       "4    11         26  2009  \n",
       "5  1375       1945  2009  "
      ]
     },
     "execution_count": 18,
     "metadata": {},
     "output_type": "execute_result"
    }
   ],
   "source": [
    "data = pd.concat([data, df], axis=1).copy()\n",
    "data.head()"
   ]
  },
  {
   "cell_type": "markdown",
   "id": "74f53435",
   "metadata": {},
   "source": [
    "2.6. **We now check that there aren't any null values. If there are any, we will remove them.**"
   ]
  },
  {
   "cell_type": "code",
   "execution_count": 132,
   "id": "547b3847",
   "metadata": {},
   "outputs": [
    {
     "data": {
      "text/plain": [
       "tweet         0\n",
       "date          0\n",
       "rt            0\n",
       "favourites    0\n",
       "year          0\n",
       "dtype: int64"
      ]
     },
     "execution_count": 132,
     "metadata": {},
     "output_type": "execute_result"
    }
   ],
   "source": [
    "data.isnull().sum()"
   ]
  },
  {
   "cell_type": "code",
   "execution_count": 105,
   "id": "d97d5453",
   "metadata": {},
   "outputs": [
    {
     "data": {
      "text/plain": [
       "Index(['tweet', 'date', 'rt', 'favourites', 'year'], dtype='object')"
      ]
     },
     "execution_count": 105,
     "metadata": {},
     "output_type": "execute_result"
    }
   ],
   "source": [
    "data.columns\n"
   ]
  },
  {
   "cell_type": "markdown",
   "id": "a987e3d3",
   "metadata": {},
   "source": [
    "3. **We now save our new and clean dataframe into a csv file, convert it to a json and then, export it to MongoDB.**"
   ]
  },
  {
   "cell_type": "code",
   "execution_count": 21,
   "id": "f398effe",
   "metadata": {},
   "outputs": [],
   "source": [
    "data.to_csv('../data/dt_tweets.csv')"
   ]
  },
  {
   "cell_type": "code",
   "execution_count": 41,
   "id": "73fa115c",
   "metadata": {},
   "outputs": [],
   "source": [
    "data.to_json(\"../data/dtt_script_json\", orient=\"records\")"
   ]
  },
  {
   "cell_type": "markdown",
   "id": "1c22d67f",
   "metadata": {},
   "source": [
    "4. **Connect to MongoDB**"
   ]
  },
  {
   "cell_type": "code",
   "execution_count": 45,
   "id": "b34fdeef",
   "metadata": {},
   "outputs": [],
   "source": [
    "#mongoimport --db DT --collection tweets --jsonArray dtt_script_json"
   ]
  },
  {
   "cell_type": "code",
   "execution_count": 133,
   "id": "b586eac0",
   "metadata": {},
   "outputs": [],
   "source": [
    "client = MongoClient(\"localhost:27017\")"
   ]
  },
  {
   "cell_type": "code",
   "execution_count": 134,
   "id": "b89bdd92",
   "metadata": {
    "scrolled": true
   },
   "outputs": [
    {
     "data": {
      "text/plain": [
       "['DT', 'HP', 'Ironhack', 'admin', 'config', 'local']"
      ]
     },
     "execution_count": 134,
     "metadata": {},
     "output_type": "execute_result"
    }
   ],
   "source": [
    "client.list_database_names()"
   ]
  },
  {
   "cell_type": "code",
   "execution_count": 135,
   "id": "a879bb7b",
   "metadata": {},
   "outputs": [],
   "source": [
    "db = client.get_database(\"DT\")"
   ]
  },
  {
   "cell_type": "code",
   "execution_count": 137,
   "id": "37704261",
   "metadata": {},
   "outputs": [
    {
     "data": {
      "text/plain": [
       "Database(MongoClient(host=['localhost:27017'], document_class=dict, tz_aware=False, connect=True), 'DT')"
      ]
     },
     "execution_count": 137,
     "metadata": {},
     "output_type": "execute_result"
    }
   ],
   "source": [
    "db"
   ]
  },
  {
   "cell_type": "code",
   "execution_count": 138,
   "id": "e927c0ef",
   "metadata": {},
   "outputs": [
    {
     "data": {
      "text/plain": [
       "['tweets']"
      ]
     },
     "execution_count": 138,
     "metadata": {},
     "output_type": "execute_result"
    }
   ],
   "source": [
    "db.list_collection_names()"
   ]
  },
  {
   "cell_type": "code",
   "execution_count": 139,
   "id": "294f592e",
   "metadata": {},
   "outputs": [],
   "source": [
    "collection = db.get_collection(\"tweets\")"
   ]
  },
  {
   "cell_type": "code",
   "execution_count": 140,
   "id": "c9a4d92c",
   "metadata": {},
   "outputs": [
    {
     "data": {
      "text/plain": [
       "{'_id': ObjectId('608c4e00673c051e14d20d78'),\n",
       " '': '1',\n",
       " 'tweet': 'Be sure to tune in and watch Donald Trump on Late Night with David Letterman as he presents the Top Ten List tonight!',\n",
       " 'date': datetime.datetime(2009, 5, 4, 11, 54, 25),\n",
       " 'rt': 510,\n",
       " 'favourites': 917,\n",
       " 'year': 2009}"
      ]
     },
     "execution_count": 140,
     "metadata": {},
     "output_type": "execute_result"
    }
   ],
   "source": [
    "collection.find_one()"
   ]
  },
  {
   "cell_type": "markdown",
   "id": "7734a401",
   "metadata": {},
   "source": [
    "## QUERYS"
   ]
  },
  {
   "cell_type": "markdown",
   "id": "1d041afe",
   "metadata": {},
   "source": [
    "#### Query one - number of retweets of each tweet to see the popularity of them"
   ]
  },
  {
   "cell_type": "code",
   "execution_count": 141,
   "id": "4c0d94e4",
   "metadata": {},
   "outputs": [
    {
     "data": {
      "text/plain": [
       "{'_id': ObjectId('608c4e00673c051e14d20d78'),\n",
       " '': '1',\n",
       " 'tweet': 'Be sure to tune in and watch Donald Trump on Late Night with David Letterman as he presents the Top Ten List tonight!',\n",
       " 'date': datetime.datetime(2009, 5, 4, 11, 54, 25),\n",
       " 'rt': 510,\n",
       " 'favourites': 917,\n",
       " 'year': 2009}"
      ]
     },
     "execution_count": 141,
     "metadata": {},
     "output_type": "execute_result"
    }
   ],
   "source": [
    "collection.find_one({\"rt\": {\"$lt\": 920}})"
   ]
  },
  {
   "cell_type": "code",
   "execution_count": 142,
   "id": "898f03db",
   "metadata": {},
   "outputs": [
    {
     "data": {
      "text/plain": [
       "[{'tweet': 'The United States of America will be designating ANTIFA as a Terrorist Organization.',\n",
       "  'date': datetime.datetime(2020, 5, 31, 9, 23, 43),\n",
       "  'rt': 224890},\n",
       " {'tweet': '# FraudNewsCNN # FNNpic.twitter.com/WYUnHjjUjg',\n",
       "  'date': datetime.datetime(2017, 7, 2, 6, 21, 42),\n",
       "  'rt': 302269},\n",
       " {'tweet': 'TODAY WE MAKE AMERICA GREAT AGAIN!',\n",
       "  'date': datetime.datetime(2016, 11, 8, 4, 43, 14),\n",
       "  'rt': 289872},\n",
       " {'tweet': 'Are you allowed to impeach a president for gross incompetence?',\n",
       "  'date': datetime.datetime(2014, 6, 4, 3, 23, 11),\n",
       "  'rt': 242667}]"
      ]
     },
     "execution_count": 142,
     "metadata": {},
     "output_type": "execute_result"
    }
   ],
   "source": [
    "rt = collection.find({'rt':{\"$gt\": 200000}}, {\"tweet\": 1, \"rt\": 1, \"date\":1, \"_id\" : 0}).sort(\"date\", -1)\n",
    "list(rt)"
   ]
  },
  {
   "cell_type": "markdown",
   "id": "16582a8d",
   "metadata": {},
   "source": [
    "#### Query two - number of favourites of each tweet to see the importance of it to the followers"
   ]
  },
  {
   "cell_type": "code",
   "execution_count": 143,
   "id": "cdf57b1d",
   "metadata": {},
   "outputs": [
    {
     "data": {
      "text/plain": [
       "[{'tweet': 'The United States of America will be designating ANTIFA as a Terrorist Organization.',\n",
       "  'favourites': 828937}]"
      ]
     },
     "execution_count": 143,
     "metadata": {},
     "output_type": "execute_result"
    }
   ],
   "source": [
    "rt = collection.find({'favourites':{\"$gt\": 800000}}, {\"tweet\": 1, \"favourites\": 1, \"_id\" : 0})\n",
    "list(rt)"
   ]
  },
  {
   "cell_type": "markdown",
   "id": "d234c654",
   "metadata": {},
   "source": [
    "#### Query three - year of the tweet"
   ]
  },
  {
   "cell_type": "code",
   "execution_count": 150,
   "id": "b6abe884",
   "metadata": {},
   "outputs": [
    {
     "data": {
      "text/plain": [
       "[{'tweet': 'Best equipment & finest military in the World. On site quickly!https://twitter.com/heatherjones333/status/1212475089133944832 …',\n",
       "  'year': 2020},\n",
       " {'tweet': 'Great job!https://twitter.com/TrumpWarRoom/status/1212391791774838784 …',\n",
       "  'year': 2020},\n",
       " {'tweet': 'They don’t know how to do that!https://twitter.com/GeraldoRivera/status/1212402251806990336 …',\n",
       "  'year': 2020},\n",
       " {'tweet': 'pic.twitter.com/VXeKiVzpTf', 'year': 2020},\n",
       " {'tweet': 'pic.twitter.com/qOi7mpKcHY', 'year': 2020},\n",
       " {'tweet': '95% Approval Rating in the Republican Party. Thank you!',\n",
       "  'year': 2020},\n",
       " {'tweet': 'IRAN WILL NEVER HAVE A NUCLEAR WEAPON!', 'year': 2020},\n",
       " {'tweet': 'pic.twitter.com/XpVY2bnR5a', 'year': 2020},\n",
       " {'tweet': 'pic.twitter.com/dXBP7Srsqy', 'year': 2020},\n",
       " {'tweet': 'Amazing analysis & reporting!https://twitter.com/realDonaldTrump/status/1214230745176322048 …',\n",
       "  'year': 2020},\n",
       " {'tweet': 'We love Australia!https://twitter.com/ScottMorrisonMP/status/1214373985988698112 …',\n",
       "  'year': 2020},\n",
       " {'tweet': 'Great interview with @ GOPLeader Kevin McCarthy on @ foxandfriends. “There was no urgency with the Articles of Impeachment because there was no case.”',\n",
       "  'year': 2020},\n",
       " {'tweet': 'See you later!https://twitter.com/TeamTrump/status/1215135496155860992 …',\n",
       "  'year': 2020},\n",
       " {'tweet': 'WINRED!https://twitter.com/GOPChairwoman/status/1215112427756498945 …',\n",
       "  'year': 2020},\n",
       " {'tweet': 'Great!https://twitter.com/LindseyGrahamSC/status/1214207553971924996 …',\n",
       "  'year': 2020},\n",
       " {'tweet': 'Thank you Elise!https://twitter.com/EliseStefanik/status/1215116528284315648 …',\n",
       "  'year': 2020},\n",
       " {'tweet': 'PRESIDENTIAL HARASSMENT!', 'year': 2020},\n",
       " {'tweet': 'U.S. Cancer Death Rate Lowest In Recorded History! A lot of good news coming out of this Administration.',\n",
       "  'year': 2020},\n",
       " {'tweet': 'Happy National Law Enforcement Appreciation Day! # LESMpic.twitter.com/kNN3RetVvs',\n",
       "  'year': 2020},\n",
       " {'tweet': 'Thank you!https://twitter.com/StewardshipAmer/status/1215304359984001025 …',\n",
       "  'year': 2020}]"
      ]
     },
     "execution_count": 150,
     "metadata": {},
     "output_type": "execute_result"
    }
   ],
   "source": [
    "year = collection.find({'year':{\"$gt\": 2019}}, {\"tweet\": 1, \"year\": 1, \"_id\" : 0}).limit(20)\n",
    "list(year)"
   ]
  },
  {
   "cell_type": "markdown",
   "id": "369847f3",
   "metadata": {},
   "source": [
    "#### Query four - polarity of the tweet to see how positive or negative they are"
   ]
  },
  {
   "cell_type": "code",
   "execution_count": 160,
   "id": "17e91ea5",
   "metadata": {},
   "outputs": [],
   "source": [
    "def avg_polarity2(year):\n",
    "    query_fourth = {'year': year}\n",
    "    year = list(collection.find(query_fourth, {\"tweet\": 1, \"_id\" : 0}))\n",
    "\n",
    "    sia = SentimentIntensityAnalyzer()\n",
    "\n",
    "    pos = []\n",
    "    for i in year:\n",
    "        polarity = sia.polarity_scores(i['tweet'])\n",
    "        pos.append(polarity['pos'])\n",
    "\n",
    "    mean_anual_polarity = sum(pos)/len(pos)    \n",
    "    print(mean_anual_polarity)\n",
    "    return mean_anual_polarity"
   ]
  },
  {
   "cell_type": "code",
   "execution_count": 164,
   "id": "3699137d",
   "metadata": {},
   "outputs": [
    {
     "ename": "ZeroDivisionError",
     "evalue": "division by zero",
     "output_type": "error",
     "traceback": [
      "\u001b[0;31m---------------------------------------------------------------------------\u001b[0m",
      "\u001b[0;31mZeroDivisionError\u001b[0m                         Traceback (most recent call last)",
      "\u001b[0;32m<ipython-input-164-0d9130f043ce>\u001b[0m in \u001b[0;36m<module>\u001b[0;34m\u001b[0m\n\u001b[1;32m      2\u001b[0m     \u001b[0mmean_anual_polarity\u001b[0m \u001b[0;34m=\u001b[0m \u001b[0mavg_polarity2\u001b[0m\u001b[0;34m(\u001b[0m\u001b[0myear\u001b[0m\u001b[0;34m)\u001b[0m\u001b[0;34m\u001b[0m\u001b[0;34m\u001b[0m\u001b[0m\n\u001b[1;32m      3\u001b[0m     \u001b[0;32mreturn\u001b[0m \u001b[0mjson\u001b[0m\u001b[0;34m.\u001b[0m\u001b[0mdumps\u001b[0m\u001b[0;34m(\u001b[0m\u001b[0mmean_anual_polarity\u001b[0m\u001b[0;34m)\u001b[0m\u001b[0;34m\u001b[0m\u001b[0;34m\u001b[0m\u001b[0m\n\u001b[0;32m----> 4\u001b[0;31m \u001b[0mavg_polarity\u001b[0m\u001b[0;34m(\u001b[0m\u001b[0;34m\"2019\"\u001b[0m\u001b[0;34m)\u001b[0m\u001b[0;34m\u001b[0m\u001b[0;34m\u001b[0m\u001b[0m\n\u001b[0m",
      "\u001b[0;32m<ipython-input-164-0d9130f043ce>\u001b[0m in \u001b[0;36mavg_polarity\u001b[0;34m(year)\u001b[0m\n\u001b[1;32m      1\u001b[0m \u001b[0;32mdef\u001b[0m \u001b[0mavg_polarity\u001b[0m\u001b[0;34m(\u001b[0m\u001b[0myear\u001b[0m\u001b[0;34m)\u001b[0m\u001b[0;34m:\u001b[0m\u001b[0;34m\u001b[0m\u001b[0;34m\u001b[0m\u001b[0m\n\u001b[0;32m----> 2\u001b[0;31m     \u001b[0mmean_anual_polarity\u001b[0m \u001b[0;34m=\u001b[0m \u001b[0mavg_polarity2\u001b[0m\u001b[0;34m(\u001b[0m\u001b[0myear\u001b[0m\u001b[0;34m)\u001b[0m\u001b[0;34m\u001b[0m\u001b[0;34m\u001b[0m\u001b[0m\n\u001b[0m\u001b[1;32m      3\u001b[0m     \u001b[0;32mreturn\u001b[0m \u001b[0mjson\u001b[0m\u001b[0;34m.\u001b[0m\u001b[0mdumps\u001b[0m\u001b[0;34m(\u001b[0m\u001b[0mmean_anual_polarity\u001b[0m\u001b[0;34m)\u001b[0m\u001b[0;34m\u001b[0m\u001b[0;34m\u001b[0m\u001b[0m\n\u001b[1;32m      4\u001b[0m \u001b[0mavg_polarity\u001b[0m\u001b[0;34m(\u001b[0m\u001b[0;34m\"2019\"\u001b[0m\u001b[0;34m)\u001b[0m\u001b[0;34m\u001b[0m\u001b[0;34m\u001b[0m\u001b[0m\n",
      "\u001b[0;32m<ipython-input-160-0c9ceafbca38>\u001b[0m in \u001b[0;36mavg_polarity2\u001b[0;34m(year)\u001b[0m\n\u001b[1;32m     10\u001b[0m         \u001b[0mpos\u001b[0m\u001b[0;34m.\u001b[0m\u001b[0mappend\u001b[0m\u001b[0;34m(\u001b[0m\u001b[0mpolarity\u001b[0m\u001b[0;34m[\u001b[0m\u001b[0;34m'pos'\u001b[0m\u001b[0;34m]\u001b[0m\u001b[0;34m)\u001b[0m\u001b[0;34m\u001b[0m\u001b[0;34m\u001b[0m\u001b[0m\n\u001b[1;32m     11\u001b[0m \u001b[0;34m\u001b[0m\u001b[0m\n\u001b[0;32m---> 12\u001b[0;31m     \u001b[0mmean_anual_polarity\u001b[0m \u001b[0;34m=\u001b[0m \u001b[0msum\u001b[0m\u001b[0;34m(\u001b[0m\u001b[0mpos\u001b[0m\u001b[0;34m)\u001b[0m\u001b[0;34m/\u001b[0m\u001b[0mlen\u001b[0m\u001b[0;34m(\u001b[0m\u001b[0mpos\u001b[0m\u001b[0;34m)\u001b[0m\u001b[0;34m\u001b[0m\u001b[0;34m\u001b[0m\u001b[0m\n\u001b[0m\u001b[1;32m     13\u001b[0m     \u001b[0mprint\u001b[0m\u001b[0;34m(\u001b[0m\u001b[0mmean_anual_polarity\u001b[0m\u001b[0;34m)\u001b[0m\u001b[0;34m\u001b[0m\u001b[0;34m\u001b[0m\u001b[0m\n\u001b[1;32m     14\u001b[0m     \u001b[0;32mreturn\u001b[0m \u001b[0mmean_anual_polarity\u001b[0m\u001b[0;34m\u001b[0m\u001b[0;34m\u001b[0m\u001b[0m\n",
      "\u001b[0;31mZeroDivisionError\u001b[0m: division by zero"
     ]
    }
   ],
   "source": [
    "def avg_polarity(year):\n",
    "    mean_anual_polarity = avg_polarity2(year)\n",
    "    return json.dumps(mean_anual_polarity)\n",
    "avg_polarity(\"2019\")"
   ]
  },
  {
   "cell_type": "markdown",
   "id": "34b5e1b9",
   "metadata": {},
   "source": [
    "### No he podido sacar la formula bien para que me haga la polaridad de los tweets, no se que falla"
   ]
  },
  {
   "cell_type": "markdown",
   "id": "6b77dbce",
   "metadata": {},
   "source": [
    "<!-- ## Query -->"
   ]
  }
 ],
 "metadata": {
  "kernelspec": {
   "display_name": "Python 3",
   "language": "python",
   "name": "python3"
  },
  "language_info": {
   "codemirror_mode": {
    "name": "ipython",
    "version": 3
   },
   "file_extension": ".py",
   "mimetype": "text/x-python",
   "name": "python",
   "nbconvert_exporter": "python",
   "pygments_lexer": "ipython3",
   "version": "3.8.5"
  }
 },
 "nbformat": 4,
 "nbformat_minor": 5
}
